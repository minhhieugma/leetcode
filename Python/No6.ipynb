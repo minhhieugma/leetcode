{
 "cells": [
  {
   "cell_type": "markdown",
   "metadata": {},
   "source": [
    "# 6. Zigzag Conversion\n",
    "- https://leetcode.com/problems/zigzag-conversion/\n"
   ]
  },
  {
   "cell_type": "code",
   "execution_count": 42,
   "metadata": {
    "dotnet_interactive": {
     "language": "csharp"
    }
   },
   "outputs": [
    {
     "name": "stdout",
     "output_type": "stream",
     "text": [
      "[{'arr1': 'PAYPALISHIRING', 'numRows': 3, 'output1': 'PAHNAPLSIIGYIR'}, {'arr1': 'PAYPALISHIRING', 'numRows': 4, 'output1': 'PINALSIGYAHRPI'}, {'arr1': 'ABC', 'numRows': 1, 'output1': 'ABC'}]\n"
     ]
    }
   ],
   "source": [
    "dataset = [\n",
    "    {'arr1': 'PAYPALISHIRING', 'numRows': 3, 'output1': 'PAHNAPLSIIGYIR'},\n",
    "    {'arr1': 'PAYPALISHIRING', 'numRows': 4, 'output1': 'PINALSIGYAHRPI'},\n",
    "    {'arr1': 'ABC', 'numRows': 1, 'output1': 'ABC'},\n",
    "]\n",
    "print(dataset)"
   ]
  },
  {
   "cell_type": "code",
   "execution_count": 43,
   "metadata": {},
   "outputs": [],
   "source": [
    "first_exam = dataset[2]\n",
    "# first_exam"
   ]
  },
  {
   "cell_type": "code",
   "execution_count": 55,
   "metadata": {},
   "outputs": [
    {
     "name": "stdout",
     "output_type": "stream",
     "text": [
      "{'arr1': 'ABC', 'numRows': 1, 'output1': 'ABC'}\n",
      "Result: ABC\n"
     ]
    }
   ],
   "source": [
    "\n",
    "from math import ceil\n",
    "from statistics import median\n",
    "\n",
    "\n",
    "class Solution:\n",
    "\n",
    "    def exec(self, ds):\n",
    "        for exam in ds:\n",
    "            arr1 = exam['arr1']\n",
    "            output1 = exam['output1']\n",
    "            print(exam)\n",
    "            result = self.convert(arr1, exam['numRows'])\n",
    "\n",
    "            if result == output1:\n",
    "                print(f'Correct:{output1}')\n",
    "            else:\n",
    "                print(f'Incorrect. Expected:{output1}. Actual:{result}')\n",
    "\n",
    "            print('-------------------------------')\n",
    "\n",
    "    def convert(self, s: str, numRows: int) -> str:\n",
    "\n",
    "        # mat = [[0 for col in range(ceil(len(s)/numRows))]\n",
    "        #        for row in range(numRows)]\n",
    "\n",
    "        mat = [[] for row in range(numRows)]\n",
    "\n",
    "        row = 0\n",
    "        col = 0\n",
    "        going_down = True\n",
    "        for i in range(len(s)):\n",
    "            # print(row, col)\n",
    "            while len(mat[row]) - 1 < col:\n",
    "                mat[row].append('')\n",
    "\n",
    "            mat[row][col] = s[i]\n",
    "\n",
    "            if numRows > 1:\n",
    "                if going_down:\n",
    "                    if row < numRows - 1:\n",
    "                        row  = row + 1\n",
    "                    else:\n",
    "                        going_down = False\n",
    "                        row = row - 1\n",
    "                        col = col + 1\n",
    "                else:\n",
    "                    if row > 0:\n",
    "                        row = row - 1\n",
    "                        col = col + 1\n",
    "                    else:\n",
    "                        going_down = True\n",
    "                        row = row + 1\n",
    "            else:\n",
    "                col = col + 1\n",
    "\n",
    "        new_string = ''\n",
    "        for i in range(numRows):\n",
    "            for j in range(len(mat[i])):\n",
    "                if mat[i][j] != '':\n",
    "                    new_string += mat[i][j]\n",
    "\n",
    "        return new_string\n",
    "\n",
    "\n",
    "arr1 = first_exam['arr1']\n",
    "output1 = first_exam['output1']\n",
    "print(first_exam)\n",
    "solution = Solution()\n",
    "result = solution.convert(arr1, first_exam['numRows'])\n",
    "print(f'Result:', result)\n",
    "\n",
    "# result\n"
   ]
  },
  {
   "cell_type": "code",
   "execution_count": 56,
   "metadata": {},
   "outputs": [
    {
     "name": "stdout",
     "output_type": "stream",
     "text": [
      "{'arr1': 'PAYPALISHIRING', 'numRows': 3, 'output1': 'PAHNAPLSIIGYIR'}\n",
      "Correct:PAHNAPLSIIGYIR\n",
      "-------------------------------\n",
      "{'arr1': 'PAYPALISHIRING', 'numRows': 4, 'output1': 'PINALSIGYAHRPI'}\n",
      "Correct:PINALSIGYAHRPI\n",
      "-------------------------------\n",
      "{'arr1': 'ABC', 'numRows': 1, 'output1': 'ABC'}\n",
      "Correct:ABC\n",
      "-------------------------------\n"
     ]
    }
   ],
   "source": [
    "solution.exec(dataset)"
   ]
  },
  {
   "cell_type": "code",
   "execution_count": 41,
   "metadata": {},
   "outputs": [
    {
     "data": {
      "text/plain": [
       "0"
      ]
     },
     "execution_count": 41,
     "metadata": {},
     "output_type": "execute_result"
    }
   ],
   "source": [
    "best = (0, 0)\n",
    "best[0]"
   ]
  },
  {
   "cell_type": "code",
   "execution_count": 55,
   "metadata": {},
   "outputs": [
    {
     "data": {
      "text/plain": [
       "2"
      ]
     },
     "execution_count": 55,
     "metadata": {},
     "output_type": "execute_result"
    }
   ],
   "source": [
    "5//2"
   ]
  },
  {
   "cell_type": "markdown",
   "metadata": {},
   "source": [
    "[d]vdf\n",
    "dv[d]f"
   ]
  },
  {
   "cell_type": "code",
   "execution_count": 65,
   "metadata": {},
   "outputs": [
    {
     "data": {
      "text/plain": [
       "-1"
      ]
     },
     "execution_count": 65,
     "metadata": {},
     "output_type": "execute_result"
    }
   ],
   "source": [
    "(0-1)//2"
   ]
  },
  {
   "cell_type": "code",
   "execution_count": 53,
   "metadata": {},
   "outputs": [
    {
     "name": "stdout",
     "output_type": "stream",
     "text": [
      "3\n",
      "5\n",
      "6\n",
      "6\n"
     ]
    }
   ],
   "source": [
    "from math import floor\n",
    "\n",
    "print(floor(7/2))\n",
    "print(floor((3 + 7)/2))\n",
    "print(floor((5 + 7)/2))\n",
    "print(floor((6 + 7)/2))"
   ]
  },
  {
   "cell_type": "markdown",
   "metadata": {},
   "source": []
  }
 ],
 "metadata": {
  "kernelspec": {
   "display_name": "Python 3.9.13 64-bit",
   "language": "python",
   "name": "python3"
  },
  "language_info": {
   "codemirror_mode": {
    "name": "ipython",
    "version": 3
   },
   "file_extension": ".py",
   "mimetype": "text/x-python",
   "name": "python",
   "nbconvert_exporter": "python",
   "pygments_lexer": "ipython3",
   "version": "3.9.13"
  },
  "vscode": {
   "interpreter": {
    "hash": "aee8b7b246df8f9039afb4144a1f6fd8d2ca17a180786b69acc140d282b71a49"
   }
  }
 },
 "nbformat": 4,
 "nbformat_minor": 2
}
