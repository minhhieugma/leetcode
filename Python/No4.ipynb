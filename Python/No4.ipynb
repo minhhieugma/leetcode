{
 "cells": [
  {
   "cell_type": "markdown",
   "metadata": {},
   "source": [
    "# 4. Median of Two Sorted Arrays\n",
    "- https://leetcode.com/problems/median-of-two-sorted-arrays/\n"
   ]
  },
  {
   "cell_type": "code",
   "execution_count": 212,
   "metadata": {
    "dotnet_interactive": {
     "language": "csharp"
    }
   },
   "outputs": [
    {
     "name": "stdout",
     "output_type": "stream",
     "text": [
      "[{'arr1': [1, 3, 5, 7], 'arr2': [2, 4, 6, 8], 'output1': 4.5}, {'arr1': [1, 3], 'arr2': [2], 'output1': 2}, {'arr1': [1, 2], 'arr2': [3, 4], 'output1': 2.5}, {'arr1': [1, 2], 'arr2': [], 'output1': 1.5}]\n"
     ]
    }
   ],
   "source": [
    "dataset = [\n",
    "    {'arr1': [1,3,5,7], 'arr2': [2,4,6,8], 'output1': 4.5},\n",
    "    {'arr1': [1,3], 'arr2': [2], 'output1': 2},\n",
    "    {'arr1': [1,2], 'arr2': [3,4], 'output1': 2.5},\n",
    "    {'arr1': [1,2], 'arr2': [], 'output1': 1.5},\n",
    "]\n",
    "print(dataset)"
   ]
  },
  {
   "cell_type": "code",
   "execution_count": 213,
   "metadata": {},
   "outputs": [],
   "source": [
    "first_exam = dataset[0]\n",
    "# first_exam"
   ]
  },
  {
   "cell_type": "code",
   "execution_count": 214,
   "metadata": {},
   "outputs": [],
   "source": [
    "\n",
    "def exec(ds):\n",
    "    for exam in ds:\n",
    "        arr1 = exam['arr1']\n",
    "        arr2 = exam['arr2']\n",
    "        output1 = exam['output1']\n",
    "        print(exam)\n",
    "        result = cal_median(arr1, arr2)\n",
    "\n",
    "\n",
    "        if result == output1:\n",
    "            print(f'Correct:{output1}')\n",
    "        else:\n",
    "            print(f'Incorrect. Expected:{output1}. Actual:{result}')\n",
    "\n",
    "        print('-------------------------------')\n",
    "\n",
    "from math import ceil\n",
    "from statistics import median\n",
    "\n",
    "\n",
    "def insert_to_sorted_array(arr1, start, end, val):\n",
    "    mid_pos = (start + end)//2\n",
    "\n",
    "    if arr1[0] >= val:\n",
    "        return [val, *arr1]\n",
    "    elif arr1[-1] <= val:\n",
    "        return [*arr1, val]\n",
    "\n",
    "    if mid_pos < 0:\n",
    "        return [val, *arr1]\n",
    "    elif mid_pos >= len(arr1):\n",
    "        return [*arr1, val]\n",
    "\n",
    "    mid_val = arr1[mid_pos]\n",
    "    # print(f'{mid_pos}')\n",
    "\n",
    "    if mid_val < val:\n",
    "        if (mid_pos + 1 + end) // 2 == mid_pos:\n",
    "            return [*arr1[:mid_pos+1], val, *arr1[mid_pos+1:]]\n",
    "        else:\n",
    "            return insert_to_sorted_array(arr1, mid_pos + 1, end, val)\n",
    "\n",
    "    if mid_val > val:\n",
    "        if (start + mid_pos - 1) // 2 == mid_pos:\n",
    "            return [*arr1[:mid_pos - 1], val, *arr1[mid_pos - 1:]]\n",
    "        else:\n",
    "           return insert_to_sorted_array(arr1, start, mid_pos - 1, val)\n",
    "\n",
    "    return [*arr1[:mid_pos], val, *arr1[mid_pos:]]\n",
    "\n",
    "\n",
    "def cal_median(arr1, arr2):\n",
    "    if len(arr1) == 0:\n",
    "            return median(arr2)\n",
    "    elif len(arr2) == 0:\n",
    "        return median(arr1)\n",
    "        \n",
    "    median_pos = (len(arr1) + len(arr2) + 1)/2\n",
    "    # print(f'Median Pos:', median_pos)\n",
    "\n",
    "    arr = [*arr1]\n",
    "    i = 0\n",
    "    while i < len(arr2): #and len(arr) <= ceil(median_pos):\n",
    "        mid_pos1 = len(arr1)//2\n",
    "        mid_val1 = arr1[mid_pos1]\n",
    "\n",
    "        arr = insert_to_sorted_array(arr, 0, len(arr)-1, arr2[i])\n",
    "        i += 1\n",
    "\n",
    "    # if mid_val1 < mid_val2:\n",
    "    #     print(f'Mid Val1:{mid_val1}. Mid Val2:{mid_val2}')\n",
    "    \n",
    "    return median(arr)\n",
    "\n",
    "\n",
    "# arr1 = first_exam['arr1']\n",
    "# arr2 = first_exam['arr2']\n",
    "# output1 = first_exam['output1']\n",
    "# print(first_exam)\n",
    "# result = cal_median(arr1, arr2)\n",
    "# # print(f'Result:', result)\n",
    "# eval(input, result)\n",
    "\n",
    "# result\n"
   ]
  },
  {
   "cell_type": "code",
   "execution_count": 215,
   "metadata": {},
   "outputs": [
    {
     "name": "stdout",
     "output_type": "stream",
     "text": [
      "{'arr1': [1, 3, 5, 7], 'arr2': [2, 4, 6, 8], 'output1': 4.5}\n",
      "Correct:4.5\n",
      "-------------------------------\n",
      "{'arr1': [1, 3], 'arr2': [2], 'output1': 2}\n",
      "Correct:2\n",
      "-------------------------------\n",
      "{'arr1': [1, 2], 'arr2': [3, 4], 'output1': 2.5}\n",
      "Correct:2.5\n",
      "-------------------------------\n",
      "{'arr1': [1, 2], 'arr2': [], 'output1': 1.5}\n",
      "Correct:1.5\n",
      "-------------------------------\n"
     ]
    }
   ],
   "source": [
    "exec(dataset)"
   ]
  },
  {
   "cell_type": "code",
   "execution_count": 185,
   "metadata": {},
   "outputs": [
    {
     "name": "stdout",
     "output_type": "stream",
     "text": [
      "2\n"
     ]
    },
    {
     "data": {
      "text/plain": [
       "[1, 2, 3, 3, 5, 7]"
      ]
     },
     "execution_count": 185,
     "metadata": {},
     "output_type": "execute_result"
    }
   ],
   "source": [
    "insert_to_sorted_array([1, 2, 3, 5, 7], 0, 4, 3)"
   ]
  },
  {
   "cell_type": "code",
   "execution_count": 126,
   "metadata": {},
   "outputs": [
    {
     "data": {
      "text/plain": [
       "2"
      ]
     },
     "execution_count": 126,
     "metadata": {},
     "output_type": "execute_result"
    }
   ],
   "source": [
    "5//2"
   ]
  },
  {
   "cell_type": "markdown",
   "metadata": {},
   "source": [
    "[d]vdf\n",
    "dv[d]f"
   ]
  },
  {
   "cell_type": "code",
   "execution_count": 65,
   "metadata": {},
   "outputs": [
    {
     "data": {
      "text/plain": [
       "-1"
      ]
     },
     "execution_count": 65,
     "metadata": {},
     "output_type": "execute_result"
    }
   ],
   "source": [
    "(0-1)//2"
   ]
  },
  {
   "cell_type": "code",
   "execution_count": 53,
   "metadata": {},
   "outputs": [
    {
     "name": "stdout",
     "output_type": "stream",
     "text": [
      "3\n",
      "5\n",
      "6\n",
      "6\n"
     ]
    }
   ],
   "source": [
    "from math import floor\n",
    "\n",
    "print(floor(7/2))\n",
    "print(floor((3 + 7)/2))\n",
    "print(floor((5 + 7)/2))\n",
    "print(floor((6 + 7)/2))"
   ]
  },
  {
   "cell_type": "markdown",
   "metadata": {},
   "source": []
  }
 ],
 "metadata": {
  "kernelspec": {
   "display_name": "Python 3.9.13 64-bit",
   "language": "python",
   "name": "python3"
  },
  "language_info": {
   "codemirror_mode": {
    "name": "ipython",
    "version": 3
   },
   "file_extension": ".py",
   "mimetype": "text/x-python",
   "name": "python",
   "nbconvert_exporter": "python",
   "pygments_lexer": "ipython3",
   "version": "3.9.13"
  },
  "vscode": {
   "interpreter": {
    "hash": "aee8b7b246df8f9039afb4144a1f6fd8d2ca17a180786b69acc140d282b71a49"
   }
  }
 },
 "nbformat": 4,
 "nbformat_minor": 2
}
