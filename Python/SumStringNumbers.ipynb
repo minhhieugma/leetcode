{
 "cells": [
  {
   "cell_type": "markdown",
   "metadata": {},
   "source": [
    "# Sum String of Numbers"
   ]
  },
  {
   "cell_type": "code",
   "execution_count": 33,
   "metadata": {
    "dotnet_interactive": {
     "language": "csharp"
    }
   },
   "outputs": [
    {
     "name": "stdout",
     "output_type": "stream",
     "text": [
      "[{'arr1': '123', 'output1': 6}, {'arr1': '1', 'output1': 1}, {'arr1': '12', 'output1': 3}, {'arr1': '123456', 'output1': 21}]\n"
     ]
    }
   ],
   "source": [
    "dataset = [\n",
    "    {'arr1': '123', 'output1': 6},\n",
    "    {'arr1': '1', 'output1': 1},\n",
    "    {'arr1': '12', 'output1': 3},\n",
    "    {'arr1': '123456', 'output1': 21},\n",
    "]\n",
    "print(dataset)"
   ]
  },
  {
   "cell_type": "code",
   "execution_count": 34,
   "metadata": {},
   "outputs": [],
   "source": [
    "first_exam = dataset[0]\n",
    "# first_exam"
   ]
  },
  {
   "cell_type": "code",
   "execution_count": 35,
   "metadata": {},
   "outputs": [
    {
     "name": "stdout",
     "output_type": "stream",
     "text": [
      "{'arr1': '123', 'output1': 6}\n",
      "Result: 6\n"
     ]
    }
   ],
   "source": [
    "\n",
    "from math import ceil\n",
    "from statistics import median\n",
    "\n",
    "class Solution:\n",
    "\n",
    "    def exec(self, ds):\n",
    "        for exam in ds:\n",
    "            arr1 = exam['arr1']\n",
    "            output1 = exam['output1']\n",
    "            print(exam)\n",
    "            result = self.convert(arr1)\n",
    "\n",
    "            if result == output1:\n",
    "                print(f'Correct:{output1}')\n",
    "            else:\n",
    "                print(f'Incorrect. Expected:{output1}. Actual:{result}')\n",
    "\n",
    "            print('-------------------------------')\n",
    "\n",
    "    def convert(self, s: int) -> str:\n",
    "\n",
    "        original_val = int(s)\n",
    "        total = 0\n",
    "        for i in range(len(s)):\n",
    "            total += original_val // 10**(len(s) - 1 - i)\n",
    "            original_val = original_val % 10**(len(s) - 1 - i)\n",
    "\n",
    "        return total\n",
    "\n",
    "\n",
    "arr1 = first_exam['arr1']\n",
    "output1 = first_exam['output1']\n",
    "print(first_exam)\n",
    "solution = Solution()\n",
    "result = solution.convert(arr1)\n",
    "print(f'Result:', result)\n",
    "\n",
    "# result\n"
   ]
  },
  {
   "cell_type": "code",
   "execution_count": 36,
   "metadata": {},
   "outputs": [
    {
     "name": "stdout",
     "output_type": "stream",
     "text": [
      "{'arr1': '123', 'output1': 6}\n",
      "Correct:6\n",
      "-------------------------------\n",
      "{'arr1': '1', 'output1': 1}\n",
      "Correct:1\n",
      "-------------------------------\n",
      "{'arr1': '12', 'output1': 3}\n",
      "Correct:3\n",
      "-------------------------------\n",
      "{'arr1': '123456', 'output1': 21}\n",
      "Correct:21\n",
      "-------------------------------\n"
     ]
    }
   ],
   "source": [
    "solution.exec(dataset)"
   ]
  },
  {
   "cell_type": "markdown",
   "metadata": {},
   "source": [
    "[d]vdf\n",
    "dv[d]f"
   ]
  },
  {
   "cell_type": "markdown",
   "metadata": {},
   "source": []
  }
 ],
 "metadata": {
  "kernelspec": {
   "display_name": "Python 3.9.13 64-bit",
   "language": "python",
   "name": "python3"
  },
  "language_info": {
   "codemirror_mode": {
    "name": "ipython",
    "version": 3
   },
   "file_extension": ".py",
   "mimetype": "text/x-python",
   "name": "python",
   "nbconvert_exporter": "python",
   "pygments_lexer": "ipython3",
   "version": "3.9.13"
  },
  "vscode": {
   "interpreter": {
    "hash": "aee8b7b246df8f9039afb4144a1f6fd8d2ca17a180786b69acc140d282b71a49"
   }
  }
 },
 "nbformat": 4,
 "nbformat_minor": 2
}
